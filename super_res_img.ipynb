{
  "nbformat": 4,
  "nbformat_minor": 0,
  "metadata": {
    "colab": {
      "name": "super_res_img.ipynb",
      "provenance": [],
      "toc_visible": true
    },
    "kernelspec": {
      "name": "python3",
      "display_name": "Python 3"
    }
  },
  "cells": [
    {
      "cell_type": "markdown",
      "metadata": {
        "id": "UpIgMO8MWZb7"
      },
      "source": [
        "# Super resolution with OpenCV\n",
        "\n",
        "First import packages"
      ]
    },
    {
      "cell_type": "code",
      "metadata": {
        "id": "TCqP-jNVWKZU"
      },
      "source": [
        "import argparse\n",
        "import time\n",
        "import cv2\n",
        "from cv2 import dnn_superres\n",
        "import os"
      ],
      "execution_count": 1,
      "outputs": []
    },
    {
      "cell_type": "code",
      "metadata": {
        "id": "GGPqziFkaHrI",
        "outputId": "857a5b5f-052a-45ea-b614-abf256ad5dcf",
        "colab": {
          "base_uri": "https://localhost:8080/",
          "height": 35
        }
      },
      "source": [
        "cv2.__version__"
      ],
      "execution_count": 9,
      "outputs": [
        {
          "output_type": "execute_result",
          "data": {
            "application/vnd.google.colaboratory.intrinsic+json": {
              "type": "string"
            },
            "text/plain": [
              "'4.1.2'"
            ]
          },
          "metadata": {
            "tags": []
          },
          "execution_count": 9
        }
      ]
    },
    {
      "cell_type": "code",
      "metadata": {
        "id": "EHJ3Dde8Wl6T",
        "outputId": "9b299512-6554-4029-f010-385291a7375b",
        "colab": {
          "base_uri": "https://localhost:8080/"
        }
      },
      "source": [
        "## Current models\n",
        "## models/EDSR_x4.pb\n",
        "## models/ESPCN_x4.pb\n",
        "## models/FSRCNN_x3.pb\n",
        "## models/LapSRN_x8.pb\n",
        "\n",
        "# Select the model to use from above\n",
        "modelName = \"models/LapSRN_x8.pb\"\n",
        "\n",
        "#extract from model name the scale\n",
        "modelScale = modelName.split(\"_x\")[-1]\n",
        "modelScale = int(modelScale[:modelScale.find(\".\")])\n",
        "\n",
        "print(\"model name: {}\".format(modelName))\n",
        "print(\"model scale: {}\".format(modelScale))"
      ],
      "execution_count": 11,
      "outputs": [
        {
          "output_type": "stream",
          "text": [
            "model name: models/LapSRN_x8.pb\n",
            "model scale: 8\n"
          ],
          "name": "stdout"
        }
      ]
    },
    {
      "cell_type": "code",
      "metadata": {
        "id": "76pKfi0zZsSK",
        "outputId": "621ccdc0-d5b6-4334-9b39-00ca029b5ec8",
        "colab": {
          "base_uri": "https://localhost:8080/",
          "height": 202
        }
      },
      "source": [
        "sr = cv2.dnn_superres.DnnSuperResImpl_create()\n",
        "#sr.readModel(modelName)\n",
        "#sr.setModel(modelName, modelScale)"
      ],
      "execution_count": 12,
      "outputs": [
        {
          "output_type": "error",
          "ename": "AttributeError",
          "evalue": "ignored",
          "traceback": [
            "\u001b[0;31m---------------------------------------------------------------------------\u001b[0m",
            "\u001b[0;31mAttributeError\u001b[0m                            Traceback (most recent call last)",
            "\u001b[0;32m<ipython-input-12-413cdc45c4ce>\u001b[0m in \u001b[0;36m<module>\u001b[0;34m()\u001b[0m\n\u001b[0;32m----> 1\u001b[0;31m \u001b[0msr\u001b[0m \u001b[0;34m=\u001b[0m \u001b[0mcv2\u001b[0m\u001b[0;34m.\u001b[0m\u001b[0mdnn_superres\u001b[0m\u001b[0;34m.\u001b[0m\u001b[0mDnnSuperResImpl_create\u001b[0m\u001b[0;34m(\u001b[0m\u001b[0;34m)\u001b[0m\u001b[0;34m\u001b[0m\u001b[0;34m\u001b[0m\u001b[0m\n\u001b[0m\u001b[1;32m      2\u001b[0m \u001b[0;31m#sr.readModel(modelName)\u001b[0m\u001b[0;34m\u001b[0m\u001b[0;34m\u001b[0m\u001b[0;34m\u001b[0m\u001b[0m\n\u001b[1;32m      3\u001b[0m \u001b[0;31m#sr.setModel(modelName, modelScale)\u001b[0m\u001b[0;34m\u001b[0m\u001b[0;34m\u001b[0m\u001b[0;34m\u001b[0m\u001b[0m\n",
            "\u001b[0;31mAttributeError\u001b[0m: module 'cv2.cv2' has no attribute 'dnn_superres'"
          ]
        }
      ]
    }
  ]
}